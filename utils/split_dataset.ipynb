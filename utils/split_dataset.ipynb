{
 "cells": [
  {
   "cell_type": "code",
   "execution_count": null,
   "id": "3eb7f75a",
   "metadata": {
    "vscode": {
     "languageId": "plaintext"
    }
   },
   "outputs": [],
   "source": [
    "import os, random, shutil, zipfile\n",
    "from PIL import Image"
   ]
  },
  {
   "cell_type": "markdown",
   "id": "37855ba1",
   "metadata": {},
   "source": [
    "# Detection Task"
   ]
  },
  {
   "cell_type": "code",
   "execution_count": null,
   "id": "f1169631",
   "metadata": {
    "vscode": {
     "languageId": "plaintext"
    }
   },
   "outputs": [],
   "source": []
  },
  {
   "cell_type": "markdown",
   "id": "b2343898",
   "metadata": {},
   "source": [
    "# Segmantation Task"
   ]
  },
  {
   "cell_type": "code",
   "execution_count": null,
   "id": "d5d571f8",
   "metadata": {
    "vscode": {
     "languageId": "plaintext"
    }
   },
   "outputs": [],
   "source": [
    "base_dir = r\"data\\segmentation-task\\Lane-Segmantation-dataset-original\"\n",
    "images_dir = os.path.join(base_dir, \"images\")\n",
    "labels_dir = os.path.join(base_dir, \"labels\")"
   ]
  },
  {
   "cell_type": "markdown",
   "id": "f72cba59",
   "metadata": {},
   "source": [
    "## setup dataset-splited folder"
   ]
  },
  {
   "cell_type": "code",
   "execution_count": null,
   "id": "fd813e0d",
   "metadata": {
    "vscode": {
     "languageId": "plaintext"
    }
   },
   "outputs": [],
   "source": [
    "NEW_DATASET_NAME = \"Lane-Segmantation-Custom\"\n",
    "split_base = f\"Dataset/{NEW_DATASET_NAME}\"\n",
    "\n",
    "# === train ===\n",
    "train_img = os.path.join(split_base, \"images\", \"train\")\n",
    "train_lb = os.path.join(split_base, \"labels\", \"train\")\n",
    "\n",
    "# === val ===\n",
    "val_img = os.path.join(split_base, \"images\", \"val\")\n",
    "val_lb = os.path.join(split_base, \"labels\", \"val\")\n",
    "\n",
    "for d in [train_img, val_img, train_lb, val_lb]:\n",
    "    os.makedirs(d, exist_ok = True)"
   ]
  },
  {
   "cell_type": "markdown",
   "id": "18096bee",
   "metadata": {},
   "source": [
    "## Split"
   ]
  },
  {
   "cell_type": "code",
   "execution_count": null,
   "id": "cbf5412c",
   "metadata": {
    "vscode": {
     "languageId": "plaintext"
    }
   },
   "outputs": [],
   "source": [
    "SPLIT_RATIO = 0.8\n",
    "image_files = [f for f in os.listdir(images_dir) if f.lower().endswith((\".png\", \".jpg\", \".jpeg\"))]\n",
    "random.shuffle(image_files)\n",
    "\n",
    "split_id = int(len(image_files) * SPLIT_RATIO)\n",
    "train_files = image_files[:split_id]\n",
    "val_files = image_files[split_id:]\n",
    "\n",
    "def safe_copy_image(src, dst_dir):\n",
    "    name, _ = os.path.splitext(os.path.basename(src))\n",
    "    dst = os.path.join(dst_dir, f\"{name}.png\")\n",
    "    with Image.open(src) as img:\n",
    "        img.convert(\"RGB\").save(dst, \"PNG\")\n",
    "\n",
    "for img in train_files:\n",
    "    label = os.path.splitext(img)[0] + \".txt\"\n",
    "    safe_copy_image(os.path.join(images_dir, img), train_img)\n",
    "    shutil.copy(os.path.join(labels_dir, label), train_lb)\n",
    "\n",
    "for img in val_files:\n",
    "    label = os.path.splitext(img)[0] + \".txt\"\n",
    "    safe_copy_image(os.path.join(images_dir, img), val_img)\n",
    "    shutil.copy(os.path.join(labels_dir, label), val_lb)\n",
    "    \n",
    "print(\"✅ Done splitting dataset:\")\n",
    "print(f\"Train: {len(train_files)}, Val: {len(val_files)}\")\n",
    "\n",
    "# =================== generate classes.txt ===================\n",
    "# Lấy danh sách class từ các file label (nếu chưa có)\n",
    "classes_file = os.path.join(split_base, \"classes.txt\")\n",
    "\n",
    "all_labels = []\n",
    "for f in os.listdir(base_dir):\n",
    "    if f.endswith(\".txt\"):\n",
    "        with open(os.path.join(base_dir, f), 'r', encoding=\"utf-8\") as cl_file:\n",
    "            for line in cl_file:\n",
    "                if line.strip():\n",
    "                    cls = line.strip().split()[0]\n",
    "                    all_labels.append(cls)\n",
    "\n",
    "# Sắp xếp và ghi file classes.txt\n",
    "with open(classes_file, \"w\", encoding=\"utf-8\") as f:\n",
    "    for c in all_labels:\n",
    "        f.write(f\"{c}\\n\")  # đổi thành tên class thật nếu bạn có\n",
    "\n",
    "print(f\"✅ Created classes.txt with {len(all_labels)} classes\")"
   ]
  },
  {
   "cell_type": "markdown",
   "id": "26552da6",
   "metadata": {},
   "source": [
    "## Zip"
   ]
  },
  {
   "cell_type": "code",
   "execution_count": null,
   "id": "a5f2eb92",
   "metadata": {
    "vscode": {
     "languageId": "plaintext"
    }
   },
   "outputs": [],
   "source": [
    "zip_path = os.path.join(os.path.dirname(split_base), \"custom-dataset.zip\")\n",
    "\n",
    "def zip_folder(folder_path, output_path):\n",
    "    with zipfile.ZipFile(output_path, \"w\", zipfile.ZIP_DEFLATED) as zipf:\n",
    "        for root, dirs, files in os.walk(folder_path):\n",
    "            for file in files:\n",
    "                file_path = os.path.join(root, file)\n",
    "                arcname = os.path.relpath(file_path, folder_path)\n",
    "                zipf.write(file_path, arcname)\n",
    "    print(f\"✅ Dataset zipped at: {output_path}\")\n",
    "\n",
    "zip_folder(split_base, zip_path)"
   ]
  }
 ],
 "metadata": {
  "language_info": {
   "name": "python"
  }
 },
 "nbformat": 4,
 "nbformat_minor": 5
}
