{
 "cells": [
  {
   "cell_type": "code",
   "execution_count": 1,
   "id": "6f7f0157",
   "metadata": {},
   "outputs": [],
   "source": [
    "import os\n",
    "import re\n",
    "import pandas as pd\n",
    "\n",
    "# tạo list chứa url của từng file yolo_label\n",
    "def make_url_list(source):\n",
    "    return [os.path.join(source, filename)\n",
    "            for filename in os.listdir(source)\n",
    "            if filename.endswith('.txt') and filename != 'classes.txt']\n",
    "\n",
    "# đọc từng file label và update hashmap đếm\n",
    "def read_label_file(url, class_count):\n",
    "    with open(url, 'r') as f:\n",
    "        for line in f.readlines():\n",
    "            cls_id = line.strip().split()[0]\n",
    "            class_count[cls_id] = class_count.get(cls_id, 0) + 1\n",
    "            \n",
    "                \n",
    "def thongke_classes(data_folder):\n",
    "    \n",
    "    # đọc file classes.txt và tạo dictionary để truy từ class_id -> class_name\n",
    "    classname_file = os.path.join(data_folder, \"classes.txt\")\n",
    "    class_name = {}\n",
    "    with open (classname_file, 'r', encoding='utf-8') as f:\n",
    "        for id, line in enumerate(f):\n",
    "            class_name[str(id)] = line.strip()\n",
    "            \n",
    "    # đọc đường dẫn từng file label\n",
    "    url_list = make_url_list(data_folder)\n",
    "    \n",
    "    # tạo hashmap đọc thống kê class\n",
    "    count = {}\n",
    "    for url in url_list:\n",
    "        read_label_file(url, count)\n",
    "       \n",
    "    # tạo dataframe trực quan \n",
    "    rows = [(class_name.get(cls_id, 'unknown'), counting)\n",
    "            for cls_id, counting in count.items()]\n",
    "    df = pd.DataFrame(rows, columns=['class_name', 'count'])\n",
    "    \n",
    "    return df"
   ]
  },
  {
   "cell_type": "markdown",
   "id": "78bc39a9",
   "metadata": {},
   "source": [
    "KẾT QUẢ THỐNG KÊ"
   ]
  },
  {
   "cell_type": "code",
   "execution_count": 3,
   "id": "efe58b2f",
   "metadata": {},
   "outputs": [
    {
     "data": {
      "text/html": [
       "<div>\n",
       "<style scoped>\n",
       "    .dataframe tbody tr th:only-of-type {\n",
       "        vertical-align: middle;\n",
       "    }\n",
       "\n",
       "    .dataframe tbody tr th {\n",
       "        vertical-align: top;\n",
       "    }\n",
       "\n",
       "    .dataframe thead th {\n",
       "        text-align: right;\n",
       "    }\n",
       "</style>\n",
       "<table border=\"1\" class=\"dataframe\">\n",
       "  <thead>\n",
       "    <tr style=\"text-align: right;\">\n",
       "      <th></th>\n",
       "      <th>class_name</th>\n",
       "      <th>count</th>\n",
       "    </tr>\n",
       "  </thead>\n",
       "  <tbody>\n",
       "    <tr>\n",
       "      <th>0</th>\n",
       "      <td>xe_may</td>\n",
       "      <td>11344</td>\n",
       "    </tr>\n",
       "    <tr>\n",
       "      <th>1</th>\n",
       "      <td>xe_oto</td>\n",
       "      <td>3429</td>\n",
       "    </tr>\n",
       "    <tr>\n",
       "      <th>2</th>\n",
       "      <td>xe_tai</td>\n",
       "      <td>853</td>\n",
       "    </tr>\n",
       "    <tr>\n",
       "      <th>3</th>\n",
       "      <td>xe_bus</td>\n",
       "      <td>151</td>\n",
       "    </tr>\n",
       "  </tbody>\n",
       "</table>\n",
       "</div>"
      ],
      "text/plain": [
       "  class_name  count\n",
       "0     xe_may  11344\n",
       "1     xe_oto   3429\n",
       "2     xe_tai    853\n",
       "3     xe_bus    151"
      ]
     },
     "execution_count": 3,
     "metadata": {},
     "output_type": "execute_result"
    }
   ],
   "source": [
    "data_folder = r\"C:\\Users\\1tram\\OneDrive\\Documents\\DoAnTotNghiep\\All_Dataset\\Dataset_Anotation\\data_ver2\\labels\"\n",
    "thongke_classes(data_folder)"
   ]
  }
 ],
 "metadata": {
  "kernelspec": {
   "display_name": "venv (3.10.0)",
   "language": "python",
   "name": "python3"
  },
  "language_info": {
   "codemirror_mode": {
    "name": "ipython",
    "version": 3
   },
   "file_extension": ".py",
   "mimetype": "text/x-python",
   "name": "python",
   "nbconvert_exporter": "python",
   "pygments_lexer": "ipython3",
   "version": "3.10.0"
  }
 },
 "nbformat": 4,
 "nbformat_minor": 5
}
